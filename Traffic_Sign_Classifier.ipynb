{
 "cells": [
  {
   "cell_type": "markdown",
   "metadata": {},
   "source": [
    "# Self-Driving Car Engineer Nanodegree\n",
    "\n",
    "## Deep Learning\n",
    "\n",
    "## Project: Build a Traffic Sign Recognition Classifier\n",
    "\n",
    "In this notebook, a template is provided for you to implement your functionality in stages which is required to successfully complete this project. If additional code is required that cannot be included in the notebook, be sure that the Python code is successfully imported and included in your submission, if necessary. Sections that begin with **'Implementation'** in the header indicate where you should begin your implementation for your project. Note that some sections of implementation are optional, and will be marked with **'Optional'** in the header.\n",
    "\n",
    "In addition to implementing code, there will be questions that you must answer which relate to the project and your implementation. Each section where you will answer a question is preceded by a **'Question'** header. Carefully read each question and provide thorough answers in the following text boxes that begin with **'Answer:'**. Your project submission will be evaluated based on your answers to each of the questions and the implementation you provide.\n",
    "\n",
    ">**Note:** Code and Markdown cells can be executed using the **Shift + Enter** keyboard shortcut. In addition, Markdown cells can be edited by typically double-clicking the cell to enter edit mode."
   ]
  },
  {
   "cell_type": "markdown",
   "metadata": {},
   "source": [
    "---\n",
    "## Step 0: Load The Data"
   ]
  },
  {
   "cell_type": "code",
   "execution_count": 216,
   "metadata": {
    "collapsed": false
   },
   "outputs": [
    {
     "name": "stdout",
     "output_type": "stream",
     "text": [
      "Done\n"
     ]
    }
   ],
   "source": [
    "# Load pickled data\n",
    "import os\n",
    "import pickle\n",
    "\n",
    "# TODO: Fill this in based on where you saved the training and testing data\n",
    "\n",
    "#print (os.getcwd())\n",
    "\n",
    "\n",
    "training_file = \".\\\\traffic-signs-data\\\\train.p\"\n",
    "testing_file = \".\\\\traffic-signs-data\\\\test.p\"\n",
    "\n",
    "with open(training_file, mode='rb') as f:\n",
    "    train = pickle.load(f)\n",
    "with open(testing_file, mode='rb') as f:\n",
    "    test = pickle.load(f)\n",
    "    \n",
    "X_train, y_train = train['features'], train['labels']\n",
    "X_test, y_test = test['features'], test['labels']\n",
    "\n",
    "print (\"Done\")\n"
   ]
  },
  {
   "cell_type": "markdown",
   "metadata": {},
   "source": [
    "---\n",
    "\n",
    "## Step 1: Dataset Summary & Exploration\n",
    "\n",
    "The pickled data is a dictionary with 4 key/value pairs:\n",
    "\n",
    "- `'features'` is a 4D array containing raw pixel data of the traffic sign images, (num examples, width, height, channels).\n",
    "- `'labels'` is a 1D array containing the label/class id of the traffic sign. The file `signnames.csv` contains id -> name mappings for each id.\n",
    "- `'sizes'` is a list containing tuples, (width, height) representing the the original width and height the image.\n",
    "- `'coords'` is a list containing tuples, (x1, y1, x2, y2) representing coordinates of a bounding box around the sign in the image. **THESE COORDINATES ASSUME THE ORIGINAL IMAGE. THE PICKLED DATA CONTAINS RESIZED VERSIONS (32 by 32) OF THESE IMAGES**\n",
    "\n",
    "Complete the basic data summary below."
   ]
  },
  {
   "cell_type": "code",
   "execution_count": 137,
   "metadata": {
    "collapsed": false
   },
   "outputs": [
    {
     "name": "stdout",
     "output_type": "stream",
     "text": [
      "Number of training examples = 39209\n",
      "Number of testing examples = 12630\n",
      "Image data shape = [32, 32]\n",
      "Number of classes = 43\n"
     ]
    }
   ],
   "source": [
    "### Replace each question mark with the appropriate value.\n",
    "import random\n",
    "\n",
    "\n",
    "# TODO: Number of training examples\n",
    "n_train = len(X_train)\n",
    "\n",
    "# TODO: Number of testing examples.\n",
    "n_test = len(X_test)\n",
    "\n",
    "# TODO: What's the shape of an traffic sign image?\n",
    "image_shape = [len(X_train[0]),len(X_train[0][0])]\n",
    "\n",
    "# TODO: How many unique classes/labels there are in the dataset.\n",
    "n_classes = 43\n",
    "\n",
    "print(\"Number of training examples =\", n_train)\n",
    "print(\"Number of testing examples =\", n_test)\n",
    "print(\"Image data shape =\", image_shape)\n",
    "print(\"Number of classes =\", n_classes)\n"
   ]
  },
  {
   "cell_type": "markdown",
   "metadata": {},
   "source": [
    "Visualize the German Traffic Signs Dataset using the pickled file(s). This is open ended, suggestions include: plotting traffic sign images, plotting the count of each sign, etc.\n",
    "\n",
    "The [Matplotlib](http://matplotlib.org/) [examples](http://matplotlib.org/examples/index.html) and [gallery](http://matplotlib.org/gallery.html) pages are a great resource for doing visualizations in Python.\n",
    "\n",
    "**NOTE:** It's recommended you start with something simple first. If you wish to do more, come back to it after you've completed the rest of the sections."
   ]
  },
  {
   "cell_type": "code",
   "execution_count": 236,
   "metadata": {
    "collapsed": false,
    "scrolled": true
   },
   "outputs": [
    {
     "data": {
      "image/png": "[encoded data removed]",
      "text/plain": [
       "<matplotlib.figure.Figure at 0x2fe0b03e198>"
      ]
     },
     "metadata": {},
     "output_type": "display_data"
    },
    {
     "name": "stdout",
     "output_type": "stream",
     "text": [
      "Distribution is as follows\n",
      "[Label],[count]\n",
      "210 \t Speed limit (20km/h)\n",
      "2220 \t Speed limit (30km/h)\n",
      "2250 \t Speed limit (50km/h)\n",
      "1410 \t Speed limit (60km/h)\n",
      "1980 \t Speed limit (70km/h)\n",
      "1860 \t Speed limit (80km/h)\n",
      "420 \t End of speed limit (80km/h)\n",
      "1440 \t Speed limit (100km/h)\n",
      "1410 \t Speed limit (120km/h)\n",
      "1470 \t No passing\n",
      "2010 \t No passing for vehicles over 3.5 metric tons\n",
      "1320 \t Right-of-way at the next intersection\n",
      "2100 \t Priority road\n",
      "2160 \t Yield\n",
      "780 \t Stop\n",
      "630 \t No vehicles\n",
      "420 \t Vehicles over 3.5 metric tons prohibited\n",
      "1110 \t No entry\n",
      "1200 \t General caution\n",
      "210 \t Dangerous curve to the left\n",
      "360 \t Dangerous curve to the right\n",
      "330 \t Double curve\n",
      "390 \t Bumpy road\n",
      "510 \t Slippery road\n",
      "270 \t Road narrows on the right\n",
      "1500 \t Road work\n",
      "600 \t Traffic signals\n",
      "240 \t Pedestrians\n",
      "540 \t Children crossing\n",
      "270 \t Bicycles crossing\n",
      "450 \t Beware of ice/snow\n",
      "780 \t Wild animals crossing\n",
      "240 \t End of all speed and passing limits\n",
      "689 \t Turn right ahead\n",
      "420 \t Turn left ahead\n",
      "1200 \t Ahead only\n",
      "390 \t Go straight or right\n",
      "210 \t Go straight or left\n",
      "2070 \t Keep right\n",
      "300 \t Keep left\n",
      "360 \t Roundabout mandatory\n",
      "480 \t End of no passing\n",
      "[ 210 2220 2250 1410 1980 1860  420 1440 1410 1470 2010 1320 2100 2160  780\n",
      "  630  420 1110 1200  210  360  330  390  510  270 1500  600  240  540  270\n",
      "  450  780  240  689  420 1200  390  210 2070  300  360  480]\n"
     ]
    },
    {
     "data": {
      "image/png": "[encoded data removed]",
      "text/plain": [
       "<matplotlib.figure.Figure at 0x2fdde79f978>"
      ]
     },
     "metadata": {},
     "output_type": "display_data"
    }
   ],
   "source": [
    "### Data exploration visualization goes here.\n",
    "### Feel free to use as many code cells as needed.\n",
    "import matplotlib.pyplot as plt\n",
    "import numpy as np\n",
    "\n",
    "#Plot histogram of train data\n",
    "label=list(range(43))\n",
    "\n",
    "plt.hist(train['labels'], bins=43)\n",
    "plt.title(\"Ocurrence of labels\")\n",
    "plt.xlabel(\"Label\")\n",
    "plt.ylabel(\"Frequency\")\n",
    "plt.show()\n",
    "# Visualizations will be shown in the notebook.\n",
    "%matplotlib inline\n",
    "\n",
    "def read_label_names(filename):\n",
    "    with open(filename, newline='', encoding=\"utf8\") as csvfile:\n",
    "        spamreader = csv.reader(csvfile)\n",
    "        vals = [x[1] for x in spamreader][1:]\n",
    "        return vals\n",
    "\n",
    "label_names = read_label_names('signnames.csv')\n",
    "histogram=np.histogram(y_train, bins=label)\n",
    "\n",
    "print (\"Distribution is as follows\")\n",
    "print (\"[Label],[count]\")\n",
    "for i in range(len(histogram[0])):\n",
    "    print (\"%d \\t %s\" % (histogram[0][i], label_names[histogram[1][i]]) )\n",
    "#Histogram[0] contains number of ocurrences\n",
    "\n",
    "def show_samples(n_samples, images, labels, randomize = False):\n",
    "    # Show a random sign with its label\n",
    "    for sample_n in range(n_samples):\n",
    "        if randomize:\n",
    "            n = random.randint(0, len(images))\n",
    "        else:\n",
    "            n = sample_n\n",
    "        ax = plt.subplot(np.ceil(n_samples/3),3,sample_n+1)\n",
    "        ax.set_title(label_names[labels[n]], fontsize=10)\n",
    "        ax.imshow(images[n])\n",
    "        ax.set_yticklabels([])\n",
    "        ax.set_xticklabels([])\n",
    "    plt.tight_layout()\n",
    "    plt.show()\n",
    "\n",
    "    #pick 12 random images for test\n",
    "dummy_images=[]\n",
    "dummy_labels=[]\n",
    "for i in range(12):\n",
    "    index=np.random.randint(0,len(X_train))\n",
    "    dummy_images.append(X_train[index])\n",
    "    dummy_labels.append(y_train[index])\n",
    "\n",
    "show_samples(12, dummy_images, dummy_labels, randomize = False)"
   ]
  },
  {
   "cell_type": "markdown",
   "metadata": {},
   "source": [
    "----\n",
    "\n",
    "## Step 2: Design and Test a Model Architecture\n",
    "\n",
    "Design and implement a deep learning model that learns to recognize traffic signs. Train and test your model on the [German Traffic Sign Dataset](http://benchmark.ini.rub.de/?section=gtsrb&subsection=dataset).\n",
    "\n",
    "There are various aspects to consider when thinking about this problem:\n",
    "\n",
    "- Neural network architecture\n",
    "- Play around preprocessing techniques (normalization, rgb to grayscale, etc)\n",
    "- Number of examples per label (some have more than others).\n",
    "- Generate fake data.\n",
    "\n",
    "Here is an example of a [published baseline model on this problem](http://yann.lecun.com/exdb/publis/pdf/sermanet-ijcnn-11.pdf). It's not required to be familiar with the approach used in the paper but, it's good practice to try to read papers like these.\n",
    "\n",
    "**NOTE:** The LeNet-5 implementation shown in the [classroom](https://classroom.udacity.com/nanodegrees/nd013/parts/fbf77062-5703-404e-b60c-95b78b2f3f9e/modules/6df7ae49-c61c-4bb2-a23e-6527e69209ec/lessons/601ae704-1035-4287-8b11-e2c2716217ad/concepts/d4aca031-508f-4e0b-b493-e7b706120f81) at the end of the CNN lesson is a solid starting point. You'll have to change the number of classes and possibly the preprocessing, but aside from that it's plug and play!"
   ]
  },
  {
   "cell_type": "markdown",
   "metadata": {},
   "source": [
    "### Implementation\n",
    "\n",
    "Use the code cell (or multiple code cells, if necessary) to implement the first step of your project. Once you have completed your implementation and are satisfied with the results, be sure to thoroughly answer the questions that follow."
   ]
  },
  {
   "cell_type": "code",
   "execution_count": 160,
   "metadata": {
    "collapsed": false
   },
   "outputs": [],
   "source": [
    "### Preprocess the data here.\n",
    "### Feel free to use as many code cells as needed.\n",
    "from sklearn.utils import shuffle\n",
    "import tensorflow as tf\n",
    "\n",
    "\n",
    "\n",
    "def preprocess(img):\n",
    "    #Scale around 0-1 for each chanel\n",
    "    #img = (img - [128])/128\n",
    "    img=img.astype(float)\n",
    "    \"\"\"\n",
    "    img[0]/=np.max(img[0])\n",
    "    img[1]/=np.max(img[1])\n",
    "    img[2]/=np.max(img[2])\n",
    "    \"\"\"\n",
    "    \"\"\"\n",
    "    img[0]-=0.5*np.max(img[0])\n",
    "    img[1]-=0.5*np.max(img[1])\n",
    "    img[2]-=0.5*np.max(img[2])\n",
    "    \"\"\"\n",
    "    img-=np.max(img)\n",
    "    return img\n"
   ]
  },
  {
   "cell_type": "markdown",
   "metadata": {},
   "source": [
    "### Question 1 \n",
    "\n",
    "_Describe how you preprocessed the data. Why did you choose that technique?_"
   ]
  },
  {
   "cell_type": "markdown",
   "metadata": {},
   "source": [
    "**Answer:**"
   ]
  },
  {
   "cell_type": "code",
   "execution_count": 210,
   "metadata": {
    "collapsed": false
   },
   "outputs": [],
   "source": [
    "### Generate additional data (OPTIONAL!)\n",
    "### and split the data into training/validation/testing sets here.\n",
    "### Feel free to use as many code cells as needed.\n",
    "import scipy.ndimage.interpolation as ndimage_p\n",
    "\n",
    "def rotate(image):\n",
    "    tol=15\n",
    "    image=ndimage.rotate(image, random.randrange(-tol,tol), reshape= False)\n",
    "    return image\n",
    "\n",
    "def translate(image):\n",
    "    tol=2\n",
    "    image=ndimage_p.shift(image, [random.randrange(-tol,tol),random.randrange(-tol,tol), 0])\n",
    "    return image\n",
    "\n",
    "def augment(image):\n",
    "    image=translate(image)\n",
    "    image=rotate(image)\n",
    "    return image\n",
    "\n",
    "def show_augmented(n_samples,images, labels):\n",
    "    # Show processing steps\n",
    "    for sample_n in range(n_samples):\n",
    "        n = sample_n\n",
    "        ax = plt.subplot(np.ceil(n_samples/3),3,sample_n+1)\n",
    "        ax.set_title([labels[n]], fontsize=10)\n",
    "        ax.imshow(images[n])\n",
    "        ax.set_yticklabels([])\n",
    "        ax.set_xticklabels([])\n",
    "    plt.tight_layout()\n",
    "    plt.show()\n",
    "\"\"\"\n",
    "print(\"Augmented\")\n",
    "augmented= np.array([augment(im) for im in dummy_images])\n",
    "show_samples(12, augmented, dummy_labels, randomize = False)\n",
    "print(\"Processed\")\n",
    "processed= np.array([preprocess(image) for image in augmented])\n",
    "show_samples(12, processed, dummy_labels, randomize = False)\n",
    "\"\"\"\n",
    "\n",
    "comparission=[]\n",
    "comparission_labels=[]\n",
    "for i in range(len(dummy_images)):\n",
    "    comparission.append(dummy_images[i])\n",
    "    comparission.append(augmented[i])\n",
    "    comparission.append(processed[i])\n",
    "    \n",
    "    comparission_labels.append(\"Original\")\n",
    "    comparission_labels.append(\"Augmented\")\n",
    "    comparission_labels.append(\"Procesed\")\n",
    "\n",
    "#show_augmented(12, comparission, comparission_labels)\n",
    "\n",
    "#Minimum 2500 training_examples per label\n",
    "augmented_features=[]\n",
    "augmented_lables=[]\n",
    "\n",
    "\n",
    "\n",
    "#X_train = np.array([preprocess(im) for im in X_train ])\n",
    "#X_test = np.array([preprocess(data) for data in X_test])\n"
   ]
  },
  {
   "cell_type": "code",
   "execution_count": 142,
   "metadata": {
    "collapsed": false
   },
   "outputs": [
    {
     "name": "stdout",
     "output_type": "stream",
     "text": [
      "Shuffling Done\n",
      "X_train size: (31367, 32, 32, 3)\n",
      "X_validation size: (7842, 32, 32, 3)\n",
      "X_test size: (12630, 32, 32, 3)\n"
     ]
    }
   ],
   "source": [
    "### Shufling data\n",
    "\n",
    "from sklearn.model_selection import train_test_split\n",
    "X_train, X_validation, y_train, y_validation = train_test_split(X_train, y_train, test_size=0.2)\n",
    "X_train, y_train = shuffle(X_train, y_train)\n",
    "print (\"Shuffling Done\")\n",
    "print (\"X_train size: {}\".format(X_train.shape))\n",
    "print (\"X_validation size: {}\".format(X_validation.shape))\n",
    "print (\"X_test size: {}\".format(X_test.shape))"
   ]
  },
  {
   "cell_type": "markdown",
   "metadata": {},
   "source": [
    "### Question 2\n",
    "\n",
    "_Describe how you set up the training, validation and testing data for your model. **Optional**: If you generated additional data, how did you generate the data? Why did you generate the data? What are the differences in the new dataset (with generated data) from the original dataset?_"
   ]
  },
  {
   "cell_type": "markdown",
   "metadata": {},
   "source": [
    "**Answer:**"
   ]
  },
  {
   "cell_type": "code",
   "execution_count": 6,
   "metadata": {
    "collapsed": true
   },
   "outputs": [],
   "source": [
    "### Define your architecture here.\n",
    "### Feel free to use as many code cells as needed."
   ]
  },
  {
   "cell_type": "code",
   "execution_count": 143,
   "metadata": {
    "collapsed": true
   },
   "outputs": [],
   "source": [
    "#Useful simplification\n",
    "\n",
    "def conv2d(x, W, b, strides=1):\n",
    "    #F_W=[f_height,f_width,input_depht,output_depht]\n",
    "    x = tf.nn.conv2d(x, W, strides=[1, strides, strides, 1], padding='VALID')\n",
    "    x = tf.nn.bias_add(x, b)\n",
    "\n",
    "    return tf.nn.relu(x)\n",
    "\n",
    "def maxpool2d(x, k=2):\n",
    "    return tf.nn.max_pool(x, ksize=[1,k,k,1], strides=[1,k,k,1], padding='SAME')\n",
    "\n",
    "def one_hot_y(y, labels):\n",
    "    #Implements One hot encoding, as by Jan 22, tf.one_hot doesn´t work on windows\n",
    "    #https://github.com/tensorflow/tensorflow/issues/6509\n",
    "    num_labels = labels\n",
    "    sparse_labels = tf.reshape(y, [-1, 1])\n",
    "    derived_size = tf.shape(sparse_labels)[0]\n",
    "    indices = tf.reshape(tf.range(0, derived_size, 1), [-1, 1])\n",
    "    concated = tf.concat(1, [indices, sparse_labels])\n",
    "    outshape = tf.concat(0, [tf.reshape(derived_size, [1]), tf.reshape(num_labels, [1])])\n",
    "    return tf.sparse_to_dense(concated, outshape, 1.0, 0.0)\n",
    "\n",
    "from sklearn.preprocessing import OneHotEncoder\n",
    "def sk_encoder(y):\n",
    "    return y.OneHotEncoder(n_values='auto',categorical_features='all')"
   ]
  },
  {
   "cell_type": "code",
   "execution_count": 144,
   "metadata": {
    "collapsed": false
   },
   "outputs": [
    {
     "name": "stdout",
     "output_type": "stream",
     "text": [
      "X_dummy size: (6273, 32, 32, 3)\n",
      "X_dummy_val size: (1569, 32, 32, 3)\n"
     ]
    }
   ],
   "source": [
    "##For simple testing purposes only!\n",
    "X_dummy, X_dummy_val, y_dummy, y_dummy_val = train_test_split(X_validation, y_validation, test_size=0.2)\n",
    "print (\"X_dummy size: {}\".format(X_dummy.shape))\n",
    "print (\"X_dummy_val size: {}\".format(X_dummy_val.shape))\n"
   ]
  },
  {
   "cell_type": "code",
   "execution_count": 149,
   "metadata": {
    "collapsed": true
   },
   "outputs": [],
   "source": [
    "#Define Network\n",
    "\n",
    "def Network(x):\n",
    "    # This prepares the data for convolutional and pooling layers.\n",
    "    x = tf.reshape(x, (-1, 32, 32, 3))\n",
    "    # Pad 0s to 36x36. Centers the image further.\n",
    "    # Add 2 rows/columns on each side for height and width dimensions.\n",
    "    x = tf.pad(x, [[0, 0], [2, 2], [2, 2], [0, 0]], mode=\"CONSTANT\")\n",
    "    # TODO: Define the LeNet architecture.\n",
    "    weights= {\n",
    "    'wc1': tf.Variable(tf.truncated_normal([3,3,3,32], mean = 0, stddev = 0.01)),\n",
    "    'wc2': tf.Variable(tf.truncated_normal([4,4,32,64], mean = 0, stddev = 0.01)),\n",
    "    'wfc1': tf.Variable(tf.truncated_normal([7*7*64,256], mean = 0, stddev = 0.01)),\n",
    "    'wfc2': tf.Variable(tf.truncated_normal([256,64], mean = 0, stddev = 0.01)),\n",
    "    'wfc3': tf.Variable(tf.truncated_normal([64,n_classes], mean = 0, stddev = 0.01))\n",
    "    }\n",
    "\n",
    "    biases= {\n",
    "    'bc1': tf.Variable(tf.zeros(32)),\n",
    "    'bc2': tf.Variable(tf.zeros(64)),\n",
    "    'bfc1': tf.Variable(tf.zeros(256)),\n",
    "    'bfc2': tf.Variable(tf.zeros(64)),\n",
    "    'bfc3': tf.Variable(tf.zeros(n_classes))\n",
    "    }\n",
    "    #from [1,36,36,1] >> [1,34,34,32] \n",
    "    #With 'VALID': \n",
    "    # 34= ceil((36 - 3 +1)/strides) \n",
    "    # 34 = ceil((36-3 +1)/1)\n",
    "    x = conv2d(x, weights['wc1'], biases['bc1'], strides=1)\n",
    "    # Return the result of the last fully connected layer.\n",
    "    x = maxpool2d(x, k=2)\n",
    "    #from [1,17,17,32] >> [1,14,14,64]\n",
    "    #With VALID:\n",
    "    #14=ceil( (17-f_h +1 )/strides)\n",
    "    #14=ceil((17-4+1)/1) \n",
    "    x = conv2d(x, weights['wc2'], biases['bc2'],strides=1)\n",
    "    x = maxpool2d(x, k=2)\n",
    "    x = tf.contrib.layers.flatten(x)\n",
    "    x = tf.nn.relu(tf.add(tf.matmul(x,weights['wfc1']),biases['bfc1']))\n",
    "    #print (x.get_shape())\n",
    "    x = tf.nn.relu(tf.add(tf.matmul(x,weights['wfc2']),biases['bfc2']))\n",
    "    x = tf.add(tf.matmul(x,weights['wfc3']),biases['bfc3'])\n",
    "    #print (x.get_shape())\n",
    "    \n",
    "    return x"
   ]
  },
  {
   "cell_type": "markdown",
   "metadata": {},
   "source": [
    "### Question 3\n",
    "\n",
    "_What does your final architecture look like? (Type of model, layers, sizes, connectivity, etc.)  For reference on how to build a deep neural network using TensorFlow, see [Deep Neural Network in TensorFlow\n",
    "](https://classroom.udacity.com/nanodegrees/nd013/parts/fbf77062-5703-404e-b60c-95b78b2f3f9e/modules/6df7ae49-c61c-4bb2-a23e-6527e69209ec/lessons/b516a270-8600-4f93-a0a3-20dfeabe5da6/concepts/83a3a2a2-a9bd-4b7b-95b0-eb924ab14432) from the classroom._\n"
   ]
  },
  {
   "cell_type": "markdown",
   "metadata": {},
   "source": [
    "**Answer:**"
   ]
  },
  {
   "cell_type": "code",
   "execution_count": 10,
   "metadata": {
    "collapsed": true
   },
   "outputs": [],
   "source": [
    "### Train your model here.\n",
    "### Feel free to use as many code cells as needed."
   ]
  },
  {
   "cell_type": "code",
   "execution_count": null,
   "metadata": {
    "collapsed": false
   },
   "outputs": [],
   "source": []
  },
  {
   "cell_type": "code",
   "execution_count": 150,
   "metadata": {
    "collapsed": false
   },
   "outputs": [],
   "source": [
    "# Basic allocations\n",
    "x=tf.placeholder(tf.float32, (None,32,32,3))\n",
    "y=tf.placeholder(tf.int32, (None))\n",
    "def num_stable(logits):\n",
    "    x_max = tf.reduce_max(logits, reduction_indices=[0])\n",
    "    logits=tf.add(logits,-x_max)\n",
    "    return logits\n",
    "\n",
    "\n",
    "logits=Network(x)\n",
    "#logits_1=logits-np.amax(logits)\n",
    "logits_1=num_stable(logits)\n",
    "#one_hoted_y=tf.one_hot(y, n_classes)\n",
    "one_hoted_y=one_hot_y(y, n_classes)\n",
    "\n",
    "rate=.001\n",
    "\n",
    "#Diverse functions\n",
    "loss_op = tf.reduce_mean(tf.nn.softmax_cross_entropy_with_logits(logits_1, one_hoted_y))\n",
    "opt = tf.train.AdamOptimizer(learning_rate = rate)\n",
    "train_op = opt.minimize(loss_op)\n",
    "####Changed this line in 1>>0 in both cases\n",
    "correct_prediction = tf.equal(tf.argmax(logits, 1), tf.argmax(one_hoted_y, 1))\n",
    "accuracy_op = tf.reduce_mean(tf.cast(correct_prediction, tf.float32))\n",
    "\n",
    "#Evaluation\n",
    "def evaluation(x_data, y_data):\n",
    "    num_examples=len(x_data)\n",
    "    \n",
    "    total_acc = 0\n",
    "    sess = tf.get_default_session()\n",
    "    \n",
    "    for offset in range(0, num_examples, BATCH_SIZE):\n",
    "        batch_x, batch_y = x_data[offset:offset+BATCH_SIZE], y_data[offset:offset+BATCH_SIZE]\n",
    "        #print(\"Shape of batchs_y: {}\".format(batch_y.shape))\n",
    "        acc = sess.run(accuracy_op, feed_dict={x: batch_x, y: batch_y})\n",
    "        total_acc += (acc * len(batch_x))\n",
    "    return total_acc/num_examples\n",
    "\n",
    "def loss_eval(x_data, y_data):\n",
    "    num_examples=len(x_data)\n",
    "    \n",
    "    total_loss = 0\n",
    "    sess = tf.get_default_session()\n",
    "    \n",
    "    for offset in range(0, num_examples, BATCH_SIZE):\n",
    "        batch_x, batch_y = x_data[offset:offset+BATCH_SIZE], y_data[offset:offset+BATCH_SIZE]\n",
    "        #print(\"Shape of batchs_y: {}\".format(batch_y.shape))\n",
    "        loss = sess.run(loss_op, feed_dict={x: batch_x, y: batch_y})\n",
    "        total_loss += (loss * len(batch_x))\n",
    "    return total_loss/num_examples"
   ]
  },
  {
   "cell_type": "code",
   "execution_count": 151,
   "metadata": {
    "collapsed": false
   },
   "outputs": [],
   "source": [
    "EPOCHS= 30\n",
    "BATCH_SIZE=128\n",
    "\n",
    "\n",
    "\n"
   ]
  },
  {
   "cell_type": "code",
   "execution_count": 152,
   "metadata": {
    "collapsed": false
   },
   "outputs": [
    {
     "name": "stdout",
     "output_type": "stream",
     "text": [
      "Now training...\n",
      "EPOCH 1\n",
      "Loss = 3.54480\n",
      "Train Accuracy = 0.00478\n",
      "Validation Accuracy = 0.00510\n",
      "EPOCH 2\n",
      "Loss = 3.21772\n",
      "Train Accuracy = 0.01706\n",
      "Validation Accuracy = 0.01721\n",
      "EPOCH 3\n",
      "Loss = 2.29885\n",
      "Train Accuracy = 0.06281\n",
      "Validation Accuracy = 0.06246\n",
      "EPOCH 4\n",
      "Loss = 1.72237\n",
      "Train Accuracy = 0.25729\n",
      "Validation Accuracy = 0.23199\n",
      "EPOCH 5\n",
      "Loss = 1.44195\n",
      "Train Accuracy = 0.34927\n",
      "Validation Accuracy = 0.33779\n",
      "EPOCH 6\n",
      "Loss = 1.11941\n",
      "Train Accuracy = 0.52590\n",
      "Validation Accuracy = 0.50159\n",
      "EPOCH 7\n",
      "Loss = 0.86543\n",
      "Train Accuracy = 0.54073\n",
      "Validation Accuracy = 0.51115\n",
      "EPOCH 8\n",
      "Loss = 0.76053\n",
      "Train Accuracy = 0.60051\n",
      "Validation Accuracy = 0.57489\n",
      "EPOCH 9\n",
      "Loss = 0.61395\n",
      "Train Accuracy = 0.74048\n",
      "Validation Accuracy = 0.69344\n",
      "EPOCH 10\n",
      "Loss = 0.53730\n",
      "Train Accuracy = 0.79499\n",
      "Validation Accuracy = 0.75972\n",
      "EPOCH 11\n",
      "Loss = 0.43480\n",
      "Train Accuracy = 0.79181\n",
      "Validation Accuracy = 0.76482\n",
      "EPOCH 12\n",
      "Loss = 0.34613\n",
      "Train Accuracy = 0.87135\n",
      "Validation Accuracy = 0.81326\n",
      "EPOCH 13\n",
      "Loss = 0.26698\n",
      "Train Accuracy = 0.89287\n",
      "Validation Accuracy = 0.84959\n",
      "EPOCH 14\n",
      "Loss = 0.28296\n",
      "Train Accuracy = 0.91328\n",
      "Validation Accuracy = 0.86807\n",
      "EPOCH 15\n",
      "Loss = 0.25890\n",
      "Train Accuracy = 0.87119\n",
      "Validation Accuracy = 0.82473\n",
      "EPOCH 16\n",
      "Loss = 0.26708\n",
      "Train Accuracy = 0.89527\n",
      "Validation Accuracy = 0.82855\n",
      "EPOCH 17\n",
      "Loss = 0.17525\n",
      "Train Accuracy = 0.93910\n",
      "Validation Accuracy = 0.88209\n",
      "EPOCH 18\n",
      "Loss = 0.20084\n",
      "Train Accuracy = 0.91790\n",
      "Validation Accuracy = 0.85851\n",
      "EPOCH 19\n",
      "Loss = 0.14576\n",
      "Train Accuracy = 0.93974\n",
      "Validation Accuracy = 0.88273\n",
      "EPOCH 20\n",
      "Loss = 0.13940\n",
      "Train Accuracy = 0.93703\n",
      "Validation Accuracy = 0.88464\n",
      "EPOCH 21\n",
      "Loss = 0.13991\n",
      "Train Accuracy = 0.95584\n",
      "Validation Accuracy = 0.89866\n",
      "EPOCH 22\n",
      "Loss = 0.13926\n",
      "Train Accuracy = 0.95712\n",
      "Validation Accuracy = 0.89611\n",
      "EPOCH 23\n",
      "Loss = 0.12534\n",
      "Train Accuracy = 0.94628\n",
      "Validation Accuracy = 0.89356\n",
      "EPOCH 24\n",
      "Loss = 0.10148\n",
      "Train Accuracy = 0.96509\n",
      "Validation Accuracy = 0.90185\n",
      "EPOCH 25\n",
      "Loss = 0.07672\n",
      "Train Accuracy = 0.96939\n",
      "Validation Accuracy = 0.91013\n",
      "EPOCH 26\n",
      "Loss = 0.09687\n",
      "Train Accuracy = 0.95536\n",
      "Validation Accuracy = 0.89611\n",
      "EPOCH 27\n",
      "Loss = 0.08687\n",
      "Train Accuracy = 0.97402\n",
      "Validation Accuracy = 0.92161\n",
      "EPOCH 28\n",
      "Loss = 0.12512\n",
      "Train Accuracy = 0.93241\n",
      "Validation Accuracy = 0.88145\n",
      "EPOCH 29\n",
      "Loss = 0.13585\n",
      "Train Accuracy = 0.95329\n",
      "Validation Accuracy = 0.90504\n",
      "EPOCH 30\n",
      "Loss = 0.09037\n",
      "Train Accuracy = 0.97019\n",
      "Validation Accuracy = 0.91523\n",
      "Done!\n"
     ]
    }
   ],
   "source": [
    "#Run\n",
    "\n",
    "with tf.Session() as sess:\n",
    "    sess.run(tf.global_variables_initializer())\n",
    "    #num_examples= len(X_train)\n",
    "    num_examples= len(X_dummy)\n",
    "    print (\"Now training...\")\n",
    "    for i in range(EPOCHS):\n",
    "        #Shuffle at each epoch\n",
    "        X_train, y_train = shuffle(X_train, y_train)\n",
    "      \n",
    "        for offset in range(0, num_examples, BATCH_SIZE):\n",
    "            end = offset + BATCH_SIZE\n",
    "            #batch_x, batch_y = X_train[offset:end], y_train[offset:end]\n",
    "            batch_x, batch_y = X_dummy[offset:end], y_dummy[offset:end]\n",
    "            #show_samples(1, batch_x, batch_y, randomize = True)\n",
    "            #print(\"Shapes:\")\n",
    "            \n",
    "            res = sess.run(train_op, feed_dict={x: batch_x, y: batch_y})\n",
    "            #print(\"batch_x: {}\".format(batch_x.shape))\n",
    "            #print(\"batch_y: {}\".format(batch_y.shape))\n",
    "       \n",
    "        \"\"\"\n",
    "        train_acc=evaluation(X_train, y_train)\n",
    "        train_loss=loss_eval(X_train, y_train)\n",
    "        validation_acc=evaluation(X_validation, y_validation)\n",
    "        \"\"\"\n",
    "        train_acc=evaluation(X_dummy, y_dummy)\n",
    "        train_loss=loss_eval(X_dummy, y_dummy)\n",
    "        validation_acc=evaluation(X_dummy_val, y_dummy_val)\n",
    "        #print(sess.run(logits, feed_dict={x: batch_x, y: batch_y}))\n",
    "        #print (\"amax of logits\")\n",
    "        #print(sess.run(tf.reduce_max(logits, reduction_indices=[1]), feed_dict={x: batch_x, y: batch_y}))\n",
    "        #print(\"Substracted\")\n",
    "        #print(sess.run(logits_1, feed_dict={x: batch_x, y: batch_y}))\n",
    "        print (\"EPOCH {}\".format(i+1))\n",
    "        print(\"Loss = {:.5f}\".format(train_loss))\n",
    "        print(\"Train Accuracy = {:.5f}\".format(train_acc))\n",
    "        print(\"Validation Accuracy = {:.5f}\".format(validation_acc))\n",
    "\n",
    "print(\"Done!\") "
   ]
  },
  {
   "cell_type": "markdown",
   "metadata": {},
   "source": [
    "### Question 4\n",
    "\n",
    "_How did you train your model? (Type of optimizer, batch size, epochs, hyperparameters, etc.)_\n"
   ]
  },
  {
   "cell_type": "markdown",
   "metadata": {},
   "source": [
    "**Answer:**"
   ]
  },
  {
   "cell_type": "markdown",
   "metadata": {},
   "source": [
    "### Question 5\n",
    "\n",
    "\n",
    "_What approach did you take in coming up with a solution to this problem? It may have been a process of trial and error, in which case, outline the steps you took to get to the final solution and why you chose those steps. Perhaps your solution involved an already well known implementation or architecture. In this case, discuss why you think this is suitable for the current problem._"
   ]
  },
  {
   "cell_type": "markdown",
   "metadata": {},
   "source": [
    "**Answer:**"
   ]
  },
  {
   "cell_type": "markdown",
   "metadata": {},
   "source": [
    "---\n",
    "\n",
    "## Step 3: Test a Model on New Images\n",
    "\n",
    "Take several pictures of traffic signs that you find on the web or around you (at least five), and run them through your classifier on your computer to produce example results. The classifier might not recognize some local signs but it could prove interesting nonetheless.\n",
    "\n",
    "You may find `signnames.csv` useful as it contains mappings from the class id (integer) to the actual sign name."
   ]
  },
  {
   "cell_type": "markdown",
   "metadata": {},
   "source": [
    "### Implementation\n",
    "\n",
    "Use the code cell (or multiple code cells, if necessary) to implement the first step of your project. Once you have completed your implementation and are satisfied with the results, be sure to thoroughly answer the questions that follow."
   ]
  },
  {
   "cell_type": "code",
   "execution_count": 14,
   "metadata": {
    "collapsed": true
   },
   "outputs": [],
   "source": [
    "### Load the images and plot them here.\n",
    "### Feel free to use as many code cells as needed."
   ]
  },
  {
   "cell_type": "markdown",
   "metadata": {},
   "source": [
    "### Question 6\n",
    "\n",
    "_Choose five candidate images of traffic signs and provide them in the report. Are there any particular qualities of the image(s) that might make classification difficult? It could be helpful to plot the images in the notebook._\n",
    "\n"
   ]
  },
  {
   "cell_type": "markdown",
   "metadata": {},
   "source": [
    "**Answer:**"
   ]
  },
  {
   "cell_type": "code",
   "execution_count": 15,
   "metadata": {
    "collapsed": true
   },
   "outputs": [],
   "source": [
    "### Run the predictions here.\n",
    "### Feel free to use as many code cells as needed."
   ]
  },
  {
   "cell_type": "markdown",
   "metadata": {},
   "source": [
    "### Question 7\n",
    "\n",
    "_Is your model able to perform equally well on captured pictures when compared to testing on the dataset? The simplest way to do this check the accuracy of the predictions. For example, if the model predicted 1 out of 5 signs correctly, it's 20% accurate._\n",
    "\n",
    "_**NOTE:** You could check the accuracy manually by using `signnames.csv` (same directory). This file has a mapping from the class id (0-42) to the corresponding sign name. So, you could take the class id the model outputs, lookup the name in `signnames.csv` and see if it matches the sign from the image._\n"
   ]
  },
  {
   "cell_type": "markdown",
   "metadata": {},
   "source": [
    "**Answer:**"
   ]
  },
  {
   "cell_type": "code",
   "execution_count": 16,
   "metadata": {
    "collapsed": true
   },
   "outputs": [],
   "source": [
    "### Visualize the softmax probabilities here.\n",
    "### Feel free to use as many code cells as needed."
   ]
  },
  {
   "cell_type": "markdown",
   "metadata": {},
   "source": [
    "### Question 8\n",
    "\n",
    "*Use the model's softmax probabilities to visualize the **certainty** of its predictions, [`tf.nn.top_k`](https://www.tensorflow.org/versions/r0.12/api_docs/python/nn.html#top_k) could prove helpful here. Which predictions is the model certain of? Uncertain? If the model was incorrect in its initial prediction, does the correct prediction appear in the top k? (k should be 5 at most)*\n",
    "\n",
    "`tf.nn.top_k` will return the values and indices (class ids) of the top k predictions. So if k=3, for each sign, it'll return the 3 largest probabilities (out of a possible 43) and the correspoding class ids.\n",
    "\n",
    "Take this numpy array as an example:\n",
    "\n",
    "```\n",
    "# (5, 6) array\n",
    "a = np.array([[ 0.24879643,  0.07032244,  0.12641572,  0.34763842,  0.07893497,\n",
    "         0.12789202],\n",
    "       [ 0.28086119,  0.27569815,  0.08594638,  0.0178669 ,  0.18063401,\n",
    "         0.15899337],\n",
    "       [ 0.26076848,  0.23664738,  0.08020603,  0.07001922,  0.1134371 ,\n",
    "         0.23892179],\n",
    "       [ 0.11943333,  0.29198961,  0.02605103,  0.26234032,  0.1351348 ,\n",
    "         0.16505091],\n",
    "       [ 0.09561176,  0.34396535,  0.0643941 ,  0.16240774,  0.24206137,\n",
    "         0.09155967]])\n",
    "```\n",
    "\n",
    "Running it through `sess.run(tf.nn.top_k(tf.constant(a), k=3))` produces:\n",
    "\n",
    "```\n",
    "TopKV2(values=array([[ 0.34763842,  0.24879643,  0.12789202],\n",
    "       [ 0.28086119,  0.27569815,  0.18063401],\n",
    "       [ 0.26076848,  0.23892179,  0.23664738],\n",
    "       [ 0.29198961,  0.26234032,  0.16505091],\n",
    "       [ 0.34396535,  0.24206137,  0.16240774]]), indices=array([[3, 0, 5],\n",
    "       [0, 1, 4],\n",
    "       [0, 5, 1],\n",
    "       [1, 3, 5],\n",
    "       [1, 4, 3]], dtype=int32))\n",
    "```\n",
    "\n",
    "Looking just at the first row we get `[ 0.34763842,  0.24879643,  0.12789202]`, you can confirm these are the 3 largest probabilities in `a`. You'll also notice `[3, 0, 5]` are the corresponding indices."
   ]
  },
  {
   "cell_type": "markdown",
   "metadata": {},
   "source": [
    "**Answer:**"
   ]
  },
  {
   "cell_type": "markdown",
   "metadata": {},
   "source": [
    "> **Note**: Once you have completed all of the code implementations and successfully answered each question above, you may finalize your work by exporting the iPython Notebook as an HTML document. You can do this by using the menu above and navigating to  \\n\",\n",
    "    \"**File -> Download as -> HTML (.html)**. Include the finished document along with this notebook as your submission."
   ]
  },
  {
   "cell_type": "code",
   "execution_count": null,
   "metadata": {
    "collapsed": true
   },
   "outputs": [],
   "source": []
  }
 ],
 "metadata": {
  "anaconda-cloud": {},
  "kernelspec": {
   "display_name": "Python [conda env:tf_cpu]",
   "language": "python",
   "name": "conda-env-tf_cpu-py"
  },
  "language_info": {
   "codemirror_mode": {
    "name": "ipython",
    "version": 3
   },
   "file_extension": ".py",
   "mimetype": "text/x-python",
   "name": "python",
   "nbconvert_exporter": "python",
   "pygments_lexer": "ipython3",
   "version": "3.5.2"
  }
 },
 "nbformat": 4,
 "nbformat_minor": 1
}
